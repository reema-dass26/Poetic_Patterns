{
 "cells": [
  {
   "cell_type": "code",
   "execution_count": 7,
   "id": "2f360a7a",
   "metadata": {},
   "outputs": [
    {
     "name": "stdout",
     "output_type": "stream",
     "text": [
      "Saved cleaned dataset to .\\data_cleaned/public_poetry_dataset.csv\n"
     ]
    }
   ],
   "source": [
    "from pathlib import Path\n",
    "import pandas as pd\n",
    "\n",
    "# Re-import after code execution reset\n",
    "frost_path = Path(\"../../data/poems.txt\")\n",
    "shakespeare_path = Path(\"../../data/Sonnet.txt\")\n",
    "# C:\\Users\\reema\\GIT\\Poetic_Patterns\\src\\preprocessing\\dataset1.ipynb\n",
    "# Read the text content from both files\n",
    "frost_text = frost_path.read_text(encoding=\"utf-8\")\n",
    "shakespeare_text = shakespeare_path.read_text(encoding=\"utf-8\")\n",
    "\n",
    "# Function to split poems by double newlines\n",
    "def split_poems(text):\n",
    "    return [poem.strip() for poem in text.split(\"\\n\\n\") if len(poem.strip().split()) > 10]\n",
    "\n",
    "frost_poems = split_poems(frost_text)\n",
    "shakespeare_poems = split_poems(shakespeare_text)\n",
    "\n",
    "# Function to create DataFrame with placeholder emotion labels\n",
    "def create_df(poems, author):\n",
    "    return pd.DataFrame({\n",
    "        \"title\": [f\"{author} Poem {i+1}\" for i in range(len(poems))],\n",
    "        \"poem\": poems,\n",
    "        \"emotion\": [\"unknown\"] * len(poems),\n",
    "        \"author\": [author] * len(poems)\n",
    "    })\n",
    "\n",
    "frost_df = create_df(frost_poems, \"Frost\")\n",
    "shakespeare_df = create_df(shakespeare_poems, \"Shakespeare\")\n",
    "\n",
    "# Combine both datasets\n",
    "public_poetry_df = pd.concat([frost_df, shakespeare_df], ignore_index=True)\n",
    "\n",
    "# Save the resulting dataset\n",
    "# output_path = \"/mnt/data/public_poetry_dataset.csv\"\n",
    "# public_poetry_df.to_csv(output_path, index=False)\n",
    "\n",
    "output_path = \".\\data_cleaned/public_poetry_dataset.csv\"\n",
    "public_poetry_df.to_csv(output_path, index=False)\n",
    "print(f\"Saved cleaned dataset to {output_path}\")\n"
   ]
  }
 ],
 "metadata": {
  "kernelspec": {
   "display_name": ".venv",
   "language": "python",
   "name": "python3"
  },
  "language_info": {
   "codemirror_mode": {
    "name": "ipython",
    "version": 3
   },
   "file_extension": ".py",
   "mimetype": "text/x-python",
   "name": "python",
   "nbconvert_exporter": "python",
   "pygments_lexer": "ipython3",
   "version": "3.11.5"
  }
 },
 "nbformat": 4,
 "nbformat_minor": 5
}
