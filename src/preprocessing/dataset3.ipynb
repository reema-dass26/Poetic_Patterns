{
 "cells": [
  {
   "cell_type": "code",
   "execution_count": 2,
   "id": "63121650",
   "metadata": {},
   "outputs": [
    {
     "name": "stdout",
     "output_type": "stream",
     "text": [
      "Saved cleaned dataset to .\\data_cleaned/full_labeled_poetry_dataset.csv\n"
     ]
    }
   ],
   "source": [
    "import pandas as pd\n",
    "from pathlib import Path\n",
    "\n",
    "def collect_poems_from_directory(root_dir, label_type):\n",
    "    poems = []\n",
    "    for category_dir in Path(root_dir).iterdir():\n",
    "        if category_dir.is_dir():\n",
    "            label = category_dir.name\n",
    "            for file in category_dir.glob(\"*.txt\"):\n",
    "                try:\n",
    "                    content = file.read_text(encoding=\"utf-8\").strip()\n",
    "                    if len(content.split()) < 10:\n",
    "                        continue  # skip extremely short pieces\n",
    "                    poems.append({\n",
    "                        \"title\": file.stem[:100],  # truncate long titles\n",
    "                        \"poem\": content,\n",
    "                        \"topic\": label if label_type == \"topic\" else None,\n",
    "                        \"form\": label if label_type == \"form\" else None,\n",
    "                        \"author\": \"Unknown\",\n",
    "                        \"emotion\": \"unknown\"\n",
    "                    })\n",
    "                except Exception:\n",
    "                    continue  # skip unreadable files\n",
    "    return poems\n",
    "\n",
    "# Collect from both topic and form folders\n",
    "topic_poems = collect_poems_from_directory(f\"../../data/topics\", \"topic\")\n",
    "form_poems = collect_poems_from_directory(f\"../../data/forms\", \"form\")\n",
    "\n",
    "# Combine and normalize into a DataFrame\n",
    "all_poems_df = pd.DataFrame(topic_poems + form_poems)\n",
    "\n",
    "output_path = \".\\data_cleaned/full_labeled_poetry_dataset.csv\"\n",
    "all_poems_df.to_csv(output_path, index=False)\n",
    "print(f\"Saved cleaned dataset to {output_path}\")"
   ]
  }
 ],
 "metadata": {
  "kernelspec": {
   "display_name": ".venv",
   "language": "python",
   "name": "python3"
  },
  "language_info": {
   "codemirror_mode": {
    "name": "ipython",
    "version": 3
   },
   "file_extension": ".py",
   "mimetype": "text/x-python",
   "name": "python",
   "nbconvert_exporter": "python",
   "pygments_lexer": "ipython3",
   "version": "3.11.5"
  }
 },
 "nbformat": 4,
 "nbformat_minor": 5
}
